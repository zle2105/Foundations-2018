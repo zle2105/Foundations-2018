{
 "cells": [
  {
   "cell_type": "code",
   "execution_count": 26,
   "metadata": {},
   "outputs": [],
   "source": [
    "####|Dark Sky Forecast API####"
   ]
  },
  {
   "cell_type": "code",
   "execution_count": null,
   "metadata": {},
   "outputs": [],
   "source": []
  },
  {
   "cell_type": "code",
   "execution_count": null,
   "metadata": {},
   "outputs": [],
   "source": [
    "#49 16 * * * python3 Dark Skye API.ipynb "
   ]
  },
  {
   "cell_type": "code",
   "execution_count": 2,
   "metadata": {},
   "outputs": [],
   "source": [
    "###Right now it is TEMPERATURE degrees out and SUMMARY. \n",
    "####Today will be TEMP_FEELING with a high of HIGH_TEMP and a low of LOW_TEMP. RAIN_WARNING."
   ]
  },
  {
   "cell_type": "code",
   "execution_count": 3,
   "metadata": {},
   "outputs": [],
   "source": [
    "#Once you've accomplished that part, use Mailgun to send yourself an email every morning at 8AM telling you the sentence. \n",
    "#The subject line of the email should be something like \"8AM Weather forecast: January 1, 1970.\""
   ]
  },
  {
   "cell_type": "code",
   "execution_count": 4,
   "metadata": {},
   "outputs": [],
   "source": [
    "import requests\n",
    "\n",
    "response = requests.get('https://api.darksky.net/forecast/KEY')"
   ]
  },
  {
   "cell_type": "code",
   "execution_count": 5,
   "metadata": {},
   "outputs": [
    {
     "name": "stdout",
     "output_type": "stream",
     "text": [
      "<Response [200]>\n"
     ]
    }
   ],
   "source": [
    "print(response)"
   ]
  },
  {
   "cell_type": "code",
   "execution_count": 6,
   "metadata": {},
   "outputs": [],
   "source": [
    "data = response.json()\n",
    "#convert json into dictionary\n"
   ]
  },
  {
   "cell_type": "code",
   "execution_count": null,
   "metadata": {},
   "outputs": [],
   "source": []
  },
  {
   "cell_type": "code",
   "execution_count": 11,
   "metadata": {},
   "outputs": [],
   "source": [
    "import datetime\n",
    "right_now = datetime.datetime.now()\n",
    "date_string = right_now.strftime(\"%Y-%M\")"
   ]
  },
  {
   "cell_type": "code",
   "execution_count": 12,
   "metadata": {},
   "outputs": [
    {
     "data": {
      "text/plain": [
       "'2018-29'"
      ]
     },
     "execution_count": 12,
     "metadata": {},
     "output_type": "execute_result"
    }
   ],
   "source": [
    "date_string"
   ]
  },
  {
   "cell_type": "code",
   "execution_count": 13,
   "metadata": {},
   "outputs": [
    {
     "data": {
      "text/plain": [
       "61.6"
      ]
     },
     "execution_count": 13,
     "metadata": {},
     "output_type": "execute_result"
    }
   ],
   "source": [
    "data['currently']['temperature']"
   ]
  },
  {
   "cell_type": "code",
   "execution_count": 14,
   "metadata": {},
   "outputs": [],
   "source": [
    "CurrentTemp = data['currently']['temperature']"
   ]
  },
  {
   "cell_type": "code",
   "execution_count": 15,
   "metadata": {},
   "outputs": [],
   "source": [
    "Summary = data['currently']['summary']"
   ]
  },
  {
   "cell_type": "code",
   "execution_count": 16,
   "metadata": {},
   "outputs": [],
   "source": [
    "Temp_Feeling=data['currently']['apparentTemperature']"
   ]
  },
  {
   "cell_type": "code",
   "execution_count": 17,
   "metadata": {},
   "outputs": [],
   "source": [
    "MaxTemp= data['daily']['data'][0]['temperatureMax']"
   ]
  },
  {
   "cell_type": "code",
   "execution_count": 18,
   "metadata": {},
   "outputs": [],
   "source": [
    "MinTemp= data['daily']['data'][0]['temperatureMin']"
   ]
  },
  {
   "cell_type": "code",
   "execution_count": 19,
   "metadata": {},
   "outputs": [],
   "source": [
    "ChanceofRain=data['daily']['data'][0]['precipProbability']"
   ]
  },
  {
   "cell_type": "code",
   "execution_count": 47,
   "metadata": {},
   "outputs": [
    {
     "name": "stdout",
     "output_type": "stream",
     "text": [
      "Right now it is 61.6 degrees out and Partly Cloudy .\n"
     ]
    },
    {
     "ename": "NameError",
     "evalue": "name 'mytexprint' is not defined",
     "output_type": "error",
     "traceback": [
      "\u001b[1;31m---------------------------------------------------------------------------\u001b[0m",
      "\u001b[1;31mNameError\u001b[0m                                 Traceback (most recent call last)",
      "\u001b[1;32m<ipython-input-47-d33aa742b469>\u001b[0m in \u001b[0;36m<module>\u001b[1;34m()\u001b[0m\n\u001b[0;32m      1\u001b[0m \u001b[0mprint\u001b[0m\u001b[1;33m(\u001b[0m\u001b[1;34m\"Right now it is\"\u001b[0m\u001b[1;33m,\u001b[0m \u001b[0mCurrentTemp\u001b[0m\u001b[1;33m,\u001b[0m \u001b[1;34m\"degrees out and\"\u001b[0m\u001b[1;33m,\u001b[0m \u001b[0mSummary\u001b[0m\u001b[1;33m,\u001b[0m\u001b[1;34m\".\"\u001b[0m\u001b[1;33m)\u001b[0m\u001b[1;33m\u001b[0m\u001b[0m\n\u001b[1;32m----> 2\u001b[1;33m \u001b[0mmytexprint\u001b[0m\u001b[1;33m(\u001b[0m\u001b[1;34m\"Today will be feeling\"\u001b[0m\u001b[1;33m,\u001b[0m \u001b[0mTemp_Feeling\u001b[0m\u001b[1;33m,\u001b[0m \u001b[1;34m\"degrees with a high of\"\u001b[0m\u001b[1;33m,\u001b[0m \u001b[0mMaxTemp\u001b[0m\u001b[1;33m,\u001b[0m \u001b[1;34m\"and a low of\"\u001b[0m\u001b[1;33m,\u001b[0m \u001b[0mMinTemp\u001b[0m\u001b[1;33m,\u001b[0m \u001b[1;34m\".\"\u001b[0m\u001b[1;33m)\u001b[0m\u001b[1;33m\u001b[0m\u001b[0m\n\u001b[0m\u001b[0;32m      3\u001b[0m \u001b[0mprint\u001b[0m\u001b[1;33m(\u001b[0m\u001b[1;34m\"There is a\"\u001b[0m\u001b[1;33m,\u001b[0m \u001b[0mChanceofRain\u001b[0m\u001b[1;33m,\u001b[0m \u001b[1;34m\"percent chance of rain today.\"\u001b[0m\u001b[1;33m)\u001b[0m\u001b[1;33m\u001b[0m\u001b[0m\n",
      "\u001b[1;31mNameError\u001b[0m: name 'mytexprint' is not defined"
     ]
    }
   ],
   "source": [
    "print(\"Right now it is\", CurrentTemp, \"degrees out and\", Summary,\".\")\n",
    "mytexprint(\"Today will be feeling\", Temp_Feeling, \"degrees with a high of\", MaxTemp, \"and a low of\", MinTemp, \".\")\n",
    "print(\"There is a\", ChanceofRain, \"percent chance of rain today.\")"
   ]
  },
  {
   "cell_type": "code",
   "execution_count": 48,
   "metadata": {},
   "outputs": [],
   "source": [
    "weathertext= \"Right now it is\", CurrentTemp, \"degrees out and\", Summary,\".\",\"Today will be feeling\", Temp_Feeling, \"degrees with a high of\", MaxTemp, \"and a low of\", MinTemp, \".\",\"There is a\", ChanceofRain, \"percent chance of rain today.\""
   ]
  },
  {
   "cell_type": "code",
   "execution_count": 49,
   "metadata": {},
   "outputs": [],
   "source": [
    "response = requests.post(\n",
    "        \"KEY\",\n",
    "        auth=(\"api\", \"KEY\"),\n",
    "        data={\"from\": \"Excited User <zle2105@columbia.edu>\",\n",
    "              \"to\": [\"zle2105@columbia.edu\"],\n",
    "              \"subject\": \"8AM weather report\",\n",
    "              \"text\": (weathertext) })"
   ]
  },
  {
   "cell_type": "code",
   "execution_count": 3,
   "metadata": {},
   "outputs": [
    {
     "ename": "NameError",
     "evalue": "name 'response' is not defined",
     "output_type": "error",
     "traceback": [
      "\u001b[1;31m---------------------------------------------------------------------------\u001b[0m",
      "\u001b[1;31mNameError\u001b[0m                                 Traceback (most recent call last)",
      "\u001b[1;32m<ipython-input-3-95cf7eee0132>\u001b[0m in \u001b[0;36m<module>\u001b[1;34m()\u001b[0m\n\u001b[1;32m----> 1\u001b[1;33m \u001b[0mresponse\u001b[0m\u001b[1;33m.\u001b[0m\u001b[0mtext\u001b[0m\u001b[1;33m\u001b[0m\u001b[0m\n\u001b[0m",
      "\u001b[1;31mNameError\u001b[0m: name 'response' is not defined"
     ]
    }
   ],
   "source": [
    "response.text"
   ]
  },
  {
   "cell_type": "code",
   "execution_count": 19,
   "metadata": {
    "scrolled": true
   },
   "outputs": [
    {
     "name": "stdout",
     "output_type": "stream",
     "text": [
      "Requirement already satisfied: python-crontab in c:\\users\\zelkw\\appdata\\local\\programs\\python\\python36-32\\lib\\site-packages (2.3.4)\n",
      "Requirement already satisfied: python-dateutil in c:\\users\\zelkw\\appdata\\local\\programs\\python\\python36-32\\lib\\site-packages (from python-crontab) (2.7.3)\n",
      "Requirement already satisfied: six>=1.5 in c:\\users\\zelkw\\appdata\\local\\programs\\python\\python36-32\\lib\\site-packages (from python-dateutil->python-crontab) (1.11.0)\n"
     ]
    }
   ],
   "source": []
  },
  {
   "cell_type": "code",
   "execution_count": null,
   "metadata": {},
   "outputs": [],
   "source": []
  },
  {
   "cell_type": "code",
   "execution_count": null,
   "metadata": {},
   "outputs": [],
   "source": []
  },
  {
   "cell_type": "code",
   "execution_count": null,
   "metadata": {},
   "outputs": [],
   "source": []
  },
  {
   "cell_type": "code",
   "execution_count": null,
   "metadata": {},
   "outputs": [],
   "source": []
  }
 ],
 "metadata": {
  "kernelspec": {
   "display_name": "Python 3",
   "language": "python",
   "name": "python3"
  },
  "language_info": {
   "codemirror_mode": {
    "name": "ipython",
    "version": 3
   },
   "file_extension": ".py",
   "mimetype": "text/x-python",
   "name": "python",
   "nbconvert_exporter": "python",
   "pygments_lexer": "ipython3",
   "version": "3.6.5"
  }
 },
 "nbformat": 4,
 "nbformat_minor": 2
}
